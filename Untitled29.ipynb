{
  "nbformat": 4,
  "nbformat_minor": 0,
  "metadata": {
    "colab": {
      "provenance": []
    },
    "kernelspec": {
      "name": "python3",
      "display_name": "Python 3"
    },
    "language_info": {
      "name": "python"
    }
  },
  "cells": [
    {
      "cell_type": "code",
      "execution_count": 1,
      "metadata": {
        "id": "WR6qENSp9T8m"
      },
      "outputs": [],
      "source": [
        "import pandas as pd"
      ]
    },
    {
      "cell_type": "code",
      "source": [
        "import tensorflow as tf\n",
        "\n",
        "import matplotlib as mpl\n",
        "import matplotlib.pyplot as plt\n",
        "import numpy as np\n",
        "import os\n",
        "import pandas as pd"
      ],
      "metadata": {
        "id": "yw6Um69S-C62"
      },
      "execution_count": 7,
      "outputs": []
    },
    {
      "cell_type": "code",
      "source": [
        "mpl.rcParams['figure.figsize'] = (8, 6)\n",
        "mpl.rcParams['axes.grid'] = False"
      ],
      "metadata": {
        "id": "28cBhBdS-HHH"
      },
      "execution_count": 106,
      "outputs": []
    },
    {
      "cell_type": "code",
      "source": [
        "df = pd.read_csv('bitcoin.csv')\n",
        "df"
      ],
      "metadata": {
        "colab": {
          "base_uri": "https://localhost:8080/",
          "height": 424
        },
        "id": "Vq55ee9Q9mcq",
        "outputId": "b14dee23-b9bb-4028-eff8-86b745cceef4"
      },
      "execution_count": 107,
      "outputs": [
        {
          "output_type": "execute_result",
          "data": {
            "text/plain": [
              "      Unnamed: 0        time      high       low      open  volumefrom  \\\n",
              "0              0  2015-12-20    462.76    431.10    461.20   121531.64   \n",
              "1              1  2015-12-21    445.54    423.99    441.78   121990.88   \n",
              "2              2  2015-12-22    443.22    433.25    437.59    65785.54   \n",
              "3              3  2015-12-23    444.78    434.28    437.03    63247.04   \n",
              "4              4  2015-12-24    460.62    441.76    442.43    79604.01   \n",
              "...          ...         ...       ...       ...       ...         ...   \n",
              "1996        1996  2021-06-07  36790.39  33367.12  35798.57    52209.55   \n",
              "1997        1997  2021-06-08  34061.09  31034.35  33582.86    88483.79   \n",
              "1998        1998  2021-06-09  37528.42  32435.18  33409.38    92280.57   \n",
              "1999        1999  2021-06-10  38387.20  35821.05  37391.58    63052.49   \n",
              "2000        2000  2021-06-11  37665.85  35981.84  36680.78    33418.02   \n",
              "\n",
              "          volumeto     close  \n",
              "0     5.431648e+07    441.78  \n",
              "1     5.327022e+07    437.59  \n",
              "2     2.884554e+07    437.03  \n",
              "3     2.787735e+07    442.43  \n",
              "4     3.609666e+07    452.98  \n",
              "...            ...       ...  \n",
              "1996  1.850311e+09  33582.86  \n",
              "1997  2.890313e+09  33409.38  \n",
              "1998  3.249554e+09  37391.58  \n",
              "1999  2.338112e+09  36680.78  \n",
              "2000  1.235391e+09  36843.33  \n",
              "\n",
              "[2001 rows x 8 columns]"
            ],
            "text/html": [
              "\n",
              "  <div id=\"df-568e43f8-100e-4601-b803-1819cff3e1f5\">\n",
              "    <div class=\"colab-df-container\">\n",
              "      <div>\n",
              "<style scoped>\n",
              "    .dataframe tbody tr th:only-of-type {\n",
              "        vertical-align: middle;\n",
              "    }\n",
              "\n",
              "    .dataframe tbody tr th {\n",
              "        vertical-align: top;\n",
              "    }\n",
              "\n",
              "    .dataframe thead th {\n",
              "        text-align: right;\n",
              "    }\n",
              "</style>\n",
              "<table border=\"1\" class=\"dataframe\">\n",
              "  <thead>\n",
              "    <tr style=\"text-align: right;\">\n",
              "      <th></th>\n",
              "      <th>Unnamed: 0</th>\n",
              "      <th>time</th>\n",
              "      <th>high</th>\n",
              "      <th>low</th>\n",
              "      <th>open</th>\n",
              "      <th>volumefrom</th>\n",
              "      <th>volumeto</th>\n",
              "      <th>close</th>\n",
              "    </tr>\n",
              "  </thead>\n",
              "  <tbody>\n",
              "    <tr>\n",
              "      <th>0</th>\n",
              "      <td>0</td>\n",
              "      <td>2015-12-20</td>\n",
              "      <td>462.76</td>\n",
              "      <td>431.10</td>\n",
              "      <td>461.20</td>\n",
              "      <td>121531.64</td>\n",
              "      <td>5.431648e+07</td>\n",
              "      <td>441.78</td>\n",
              "    </tr>\n",
              "    <tr>\n",
              "      <th>1</th>\n",
              "      <td>1</td>\n",
              "      <td>2015-12-21</td>\n",
              "      <td>445.54</td>\n",
              "      <td>423.99</td>\n",
              "      <td>441.78</td>\n",
              "      <td>121990.88</td>\n",
              "      <td>5.327022e+07</td>\n",
              "      <td>437.59</td>\n",
              "    </tr>\n",
              "    <tr>\n",
              "      <th>2</th>\n",
              "      <td>2</td>\n",
              "      <td>2015-12-22</td>\n",
              "      <td>443.22</td>\n",
              "      <td>433.25</td>\n",
              "      <td>437.59</td>\n",
              "      <td>65785.54</td>\n",
              "      <td>2.884554e+07</td>\n",
              "      <td>437.03</td>\n",
              "    </tr>\n",
              "    <tr>\n",
              "      <th>3</th>\n",
              "      <td>3</td>\n",
              "      <td>2015-12-23</td>\n",
              "      <td>444.78</td>\n",
              "      <td>434.28</td>\n",
              "      <td>437.03</td>\n",
              "      <td>63247.04</td>\n",
              "      <td>2.787735e+07</td>\n",
              "      <td>442.43</td>\n",
              "    </tr>\n",
              "    <tr>\n",
              "      <th>4</th>\n",
              "      <td>4</td>\n",
              "      <td>2015-12-24</td>\n",
              "      <td>460.62</td>\n",
              "      <td>441.76</td>\n",
              "      <td>442.43</td>\n",
              "      <td>79604.01</td>\n",
              "      <td>3.609666e+07</td>\n",
              "      <td>452.98</td>\n",
              "    </tr>\n",
              "    <tr>\n",
              "      <th>...</th>\n",
              "      <td>...</td>\n",
              "      <td>...</td>\n",
              "      <td>...</td>\n",
              "      <td>...</td>\n",
              "      <td>...</td>\n",
              "      <td>...</td>\n",
              "      <td>...</td>\n",
              "      <td>...</td>\n",
              "    </tr>\n",
              "    <tr>\n",
              "      <th>1996</th>\n",
              "      <td>1996</td>\n",
              "      <td>2021-06-07</td>\n",
              "      <td>36790.39</td>\n",
              "      <td>33367.12</td>\n",
              "      <td>35798.57</td>\n",
              "      <td>52209.55</td>\n",
              "      <td>1.850311e+09</td>\n",
              "      <td>33582.86</td>\n",
              "    </tr>\n",
              "    <tr>\n",
              "      <th>1997</th>\n",
              "      <td>1997</td>\n",
              "      <td>2021-06-08</td>\n",
              "      <td>34061.09</td>\n",
              "      <td>31034.35</td>\n",
              "      <td>33582.86</td>\n",
              "      <td>88483.79</td>\n",
              "      <td>2.890313e+09</td>\n",
              "      <td>33409.38</td>\n",
              "    </tr>\n",
              "    <tr>\n",
              "      <th>1998</th>\n",
              "      <td>1998</td>\n",
              "      <td>2021-06-09</td>\n",
              "      <td>37528.42</td>\n",
              "      <td>32435.18</td>\n",
              "      <td>33409.38</td>\n",
              "      <td>92280.57</td>\n",
              "      <td>3.249554e+09</td>\n",
              "      <td>37391.58</td>\n",
              "    </tr>\n",
              "    <tr>\n",
              "      <th>1999</th>\n",
              "      <td>1999</td>\n",
              "      <td>2021-06-10</td>\n",
              "      <td>38387.20</td>\n",
              "      <td>35821.05</td>\n",
              "      <td>37391.58</td>\n",
              "      <td>63052.49</td>\n",
              "      <td>2.338112e+09</td>\n",
              "      <td>36680.78</td>\n",
              "    </tr>\n",
              "    <tr>\n",
              "      <th>2000</th>\n",
              "      <td>2000</td>\n",
              "      <td>2021-06-11</td>\n",
              "      <td>37665.85</td>\n",
              "      <td>35981.84</td>\n",
              "      <td>36680.78</td>\n",
              "      <td>33418.02</td>\n",
              "      <td>1.235391e+09</td>\n",
              "      <td>36843.33</td>\n",
              "    </tr>\n",
              "  </tbody>\n",
              "</table>\n",
              "<p>2001 rows × 8 columns</p>\n",
              "</div>\n",
              "      <button class=\"colab-df-convert\" onclick=\"convertToInteractive('df-568e43f8-100e-4601-b803-1819cff3e1f5')\"\n",
              "              title=\"Convert this dataframe to an interactive table.\"\n",
              "              style=\"display:none;\">\n",
              "        \n",
              "  <svg xmlns=\"http://www.w3.org/2000/svg\" height=\"24px\"viewBox=\"0 0 24 24\"\n",
              "       width=\"24px\">\n",
              "    <path d=\"M0 0h24v24H0V0z\" fill=\"none\"/>\n",
              "    <path d=\"M18.56 5.44l.94 2.06.94-2.06 2.06-.94-2.06-.94-.94-2.06-.94 2.06-2.06.94zm-11 1L8.5 8.5l.94-2.06 2.06-.94-2.06-.94L8.5 2.5l-.94 2.06-2.06.94zm10 10l.94 2.06.94-2.06 2.06-.94-2.06-.94-.94-2.06-.94 2.06-2.06.94z\"/><path d=\"M17.41 7.96l-1.37-1.37c-.4-.4-.92-.59-1.43-.59-.52 0-1.04.2-1.43.59L10.3 9.45l-7.72 7.72c-.78.78-.78 2.05 0 2.83L4 21.41c.39.39.9.59 1.41.59.51 0 1.02-.2 1.41-.59l7.78-7.78 2.81-2.81c.8-.78.8-2.07 0-2.86zM5.41 20L4 18.59l7.72-7.72 1.47 1.35L5.41 20z\"/>\n",
              "  </svg>\n",
              "      </button>\n",
              "      \n",
              "  <style>\n",
              "    .colab-df-container {\n",
              "      display:flex;\n",
              "      flex-wrap:wrap;\n",
              "      gap: 12px;\n",
              "    }\n",
              "\n",
              "    .colab-df-convert {\n",
              "      background-color: #E8F0FE;\n",
              "      border: none;\n",
              "      border-radius: 50%;\n",
              "      cursor: pointer;\n",
              "      display: none;\n",
              "      fill: #1967D2;\n",
              "      height: 32px;\n",
              "      padding: 0 0 0 0;\n",
              "      width: 32px;\n",
              "    }\n",
              "\n",
              "    .colab-df-convert:hover {\n",
              "      background-color: #E2EBFA;\n",
              "      box-shadow: 0px 1px 2px rgba(60, 64, 67, 0.3), 0px 1px 3px 1px rgba(60, 64, 67, 0.15);\n",
              "      fill: #174EA6;\n",
              "    }\n",
              "\n",
              "    [theme=dark] .colab-df-convert {\n",
              "      background-color: #3B4455;\n",
              "      fill: #D2E3FC;\n",
              "    }\n",
              "\n",
              "    [theme=dark] .colab-df-convert:hover {\n",
              "      background-color: #434B5C;\n",
              "      box-shadow: 0px 1px 3px 1px rgba(0, 0, 0, 0.15);\n",
              "      filter: drop-shadow(0px 1px 2px rgba(0, 0, 0, 0.3));\n",
              "      fill: #FFFFFF;\n",
              "    }\n",
              "  </style>\n",
              "\n",
              "      <script>\n",
              "        const buttonEl =\n",
              "          document.querySelector('#df-568e43f8-100e-4601-b803-1819cff3e1f5 button.colab-df-convert');\n",
              "        buttonEl.style.display =\n",
              "          google.colab.kernel.accessAllowed ? 'block' : 'none';\n",
              "\n",
              "        async function convertToInteractive(key) {\n",
              "          const element = document.querySelector('#df-568e43f8-100e-4601-b803-1819cff3e1f5');\n",
              "          const dataTable =\n",
              "            await google.colab.kernel.invokeFunction('convertToInteractive',\n",
              "                                                     [key], {});\n",
              "          if (!dataTable) return;\n",
              "\n",
              "          const docLinkHtml = 'Like what you see? Visit the ' +\n",
              "            '<a target=\"_blank\" href=https://colab.research.google.com/notebooks/data_table.ipynb>data table notebook</a>'\n",
              "            + ' to learn more about interactive tables.';\n",
              "          element.innerHTML = '';\n",
              "          dataTable['output_type'] = 'display_data';\n",
              "          await google.colab.output.renderOutput(dataTable, element);\n",
              "          const docLink = document.createElement('div');\n",
              "          docLink.innerHTML = docLinkHtml;\n",
              "          element.appendChild(docLink);\n",
              "        }\n",
              "      </script>\n",
              "    </div>\n",
              "  </div>\n",
              "  "
            ]
          },
          "metadata": {},
          "execution_count": 107
        }
      ]
    },
    {
      "cell_type": "code",
      "source": [
        "# def univariate_data(dataset, start_index, end_index, history_size, target_size):\n",
        "#   # history size - размер последнего временного интервала\n",
        "#   # target size - насколько далеко в будущее модель прогнозирует (вектор, который прогнозируем)\n",
        "#   data = []\n",
        "#   labels = []\n",
        "\n",
        "#   start_index = start_index + history_size\n",
        "#   if end_index is None:\n",
        "#     end_index = len(dataset) - target_size\n",
        "\n",
        "#   for i in range(start_index, end_index):\n",
        "#     indices = range(i-history_size, i)\n",
        "#     # Reshape data from (history_size,) to (history_size, 1)\n",
        "#     data.append(np.reshape(dataset[indices], (history_size, 1)))\n",
        "#     labels.append(dataset[i+target_size])\n",
        "#   return np.array(data), np.array(labels)"
      ],
      "metadata": {
        "id": "-2wJl9FA9v6C"
      },
      "execution_count": 11,
      "outputs": []
    },
    {
      "cell_type": "code",
      "source": [],
      "metadata": {
        "id": "8xeluYEoP1ne"
      },
      "execution_count": 108,
      "outputs": []
    },
    {
      "cell_type": "code",
      "source": [
        "# используемые параметры\n",
        "features_considered = ['high',\t'low',\t'open',\t'volumefrom',\t'volumeto', 'close'] \n"
      ],
      "metadata": {
        "id": "kNrHaJrQ960I"
      },
      "execution_count": 109,
      "outputs": []
    },
    {
      "cell_type": "code",
      "source": [
        "features = df[features_considered]"
      ],
      "metadata": {
        "id": "8uUSlxTDN4pg"
      },
      "execution_count": 110,
      "outputs": []
    },
    {
      "cell_type": "code",
      "source": [
        "features.index = df['time']"
      ],
      "metadata": {
        "id": "mn2e7GmjN9eA"
      },
      "execution_count": 111,
      "outputs": []
    },
    {
      "cell_type": "code",
      "source": [
        "features"
      ],
      "metadata": {
        "colab": {
          "base_uri": "https://localhost:8080/",
          "height": 455
        },
        "id": "H6MAxT81OBPl",
        "outputId": "4a89c62f-da86-43d1-c9f0-8967e013c64d"
      },
      "execution_count": 112,
      "outputs": [
        {
          "output_type": "execute_result",
          "data": {
            "text/plain": [
              "                high       low      open  volumefrom      volumeto     close\n",
              "time                                                                        \n",
              "2015-12-20    462.76    431.10    461.20   121531.64  5.431648e+07    441.78\n",
              "2015-12-21    445.54    423.99    441.78   121990.88  5.327022e+07    437.59\n",
              "2015-12-22    443.22    433.25    437.59    65785.54  2.884554e+07    437.03\n",
              "2015-12-23    444.78    434.28    437.03    63247.04  2.787735e+07    442.43\n",
              "2015-12-24    460.62    441.76    442.43    79604.01  3.609666e+07    452.98\n",
              "...              ...       ...       ...         ...           ...       ...\n",
              "2021-06-07  36790.39  33367.12  35798.57    52209.55  1.850311e+09  33582.86\n",
              "2021-06-08  34061.09  31034.35  33582.86    88483.79  2.890313e+09  33409.38\n",
              "2021-06-09  37528.42  32435.18  33409.38    92280.57  3.249554e+09  37391.58\n",
              "2021-06-10  38387.20  35821.05  37391.58    63052.49  2.338112e+09  36680.78\n",
              "2021-06-11  37665.85  35981.84  36680.78    33418.02  1.235391e+09  36843.33\n",
              "\n",
              "[2001 rows x 6 columns]"
            ],
            "text/html": [
              "\n",
              "  <div id=\"df-1b0bce38-7dac-41c3-b1c3-cb18948c1673\">\n",
              "    <div class=\"colab-df-container\">\n",
              "      <div>\n",
              "<style scoped>\n",
              "    .dataframe tbody tr th:only-of-type {\n",
              "        vertical-align: middle;\n",
              "    }\n",
              "\n",
              "    .dataframe tbody tr th {\n",
              "        vertical-align: top;\n",
              "    }\n",
              "\n",
              "    .dataframe thead th {\n",
              "        text-align: right;\n",
              "    }\n",
              "</style>\n",
              "<table border=\"1\" class=\"dataframe\">\n",
              "  <thead>\n",
              "    <tr style=\"text-align: right;\">\n",
              "      <th></th>\n",
              "      <th>high</th>\n",
              "      <th>low</th>\n",
              "      <th>open</th>\n",
              "      <th>volumefrom</th>\n",
              "      <th>volumeto</th>\n",
              "      <th>close</th>\n",
              "    </tr>\n",
              "    <tr>\n",
              "      <th>time</th>\n",
              "      <th></th>\n",
              "      <th></th>\n",
              "      <th></th>\n",
              "      <th></th>\n",
              "      <th></th>\n",
              "      <th></th>\n",
              "    </tr>\n",
              "  </thead>\n",
              "  <tbody>\n",
              "    <tr>\n",
              "      <th>2015-12-20</th>\n",
              "      <td>462.76</td>\n",
              "      <td>431.10</td>\n",
              "      <td>461.20</td>\n",
              "      <td>121531.64</td>\n",
              "      <td>5.431648e+07</td>\n",
              "      <td>441.78</td>\n",
              "    </tr>\n",
              "    <tr>\n",
              "      <th>2015-12-21</th>\n",
              "      <td>445.54</td>\n",
              "      <td>423.99</td>\n",
              "      <td>441.78</td>\n",
              "      <td>121990.88</td>\n",
              "      <td>5.327022e+07</td>\n",
              "      <td>437.59</td>\n",
              "    </tr>\n",
              "    <tr>\n",
              "      <th>2015-12-22</th>\n",
              "      <td>443.22</td>\n",
              "      <td>433.25</td>\n",
              "      <td>437.59</td>\n",
              "      <td>65785.54</td>\n",
              "      <td>2.884554e+07</td>\n",
              "      <td>437.03</td>\n",
              "    </tr>\n",
              "    <tr>\n",
              "      <th>2015-12-23</th>\n",
              "      <td>444.78</td>\n",
              "      <td>434.28</td>\n",
              "      <td>437.03</td>\n",
              "      <td>63247.04</td>\n",
              "      <td>2.787735e+07</td>\n",
              "      <td>442.43</td>\n",
              "    </tr>\n",
              "    <tr>\n",
              "      <th>2015-12-24</th>\n",
              "      <td>460.62</td>\n",
              "      <td>441.76</td>\n",
              "      <td>442.43</td>\n",
              "      <td>79604.01</td>\n",
              "      <td>3.609666e+07</td>\n",
              "      <td>452.98</td>\n",
              "    </tr>\n",
              "    <tr>\n",
              "      <th>...</th>\n",
              "      <td>...</td>\n",
              "      <td>...</td>\n",
              "      <td>...</td>\n",
              "      <td>...</td>\n",
              "      <td>...</td>\n",
              "      <td>...</td>\n",
              "    </tr>\n",
              "    <tr>\n",
              "      <th>2021-06-07</th>\n",
              "      <td>36790.39</td>\n",
              "      <td>33367.12</td>\n",
              "      <td>35798.57</td>\n",
              "      <td>52209.55</td>\n",
              "      <td>1.850311e+09</td>\n",
              "      <td>33582.86</td>\n",
              "    </tr>\n",
              "    <tr>\n",
              "      <th>2021-06-08</th>\n",
              "      <td>34061.09</td>\n",
              "      <td>31034.35</td>\n",
              "      <td>33582.86</td>\n",
              "      <td>88483.79</td>\n",
              "      <td>2.890313e+09</td>\n",
              "      <td>33409.38</td>\n",
              "    </tr>\n",
              "    <tr>\n",
              "      <th>2021-06-09</th>\n",
              "      <td>37528.42</td>\n",
              "      <td>32435.18</td>\n",
              "      <td>33409.38</td>\n",
              "      <td>92280.57</td>\n",
              "      <td>3.249554e+09</td>\n",
              "      <td>37391.58</td>\n",
              "    </tr>\n",
              "    <tr>\n",
              "      <th>2021-06-10</th>\n",
              "      <td>38387.20</td>\n",
              "      <td>35821.05</td>\n",
              "      <td>37391.58</td>\n",
              "      <td>63052.49</td>\n",
              "      <td>2.338112e+09</td>\n",
              "      <td>36680.78</td>\n",
              "    </tr>\n",
              "    <tr>\n",
              "      <th>2021-06-11</th>\n",
              "      <td>37665.85</td>\n",
              "      <td>35981.84</td>\n",
              "      <td>36680.78</td>\n",
              "      <td>33418.02</td>\n",
              "      <td>1.235391e+09</td>\n",
              "      <td>36843.33</td>\n",
              "    </tr>\n",
              "  </tbody>\n",
              "</table>\n",
              "<p>2001 rows × 6 columns</p>\n",
              "</div>\n",
              "      <button class=\"colab-df-convert\" onclick=\"convertToInteractive('df-1b0bce38-7dac-41c3-b1c3-cb18948c1673')\"\n",
              "              title=\"Convert this dataframe to an interactive table.\"\n",
              "              style=\"display:none;\">\n",
              "        \n",
              "  <svg xmlns=\"http://www.w3.org/2000/svg\" height=\"24px\"viewBox=\"0 0 24 24\"\n",
              "       width=\"24px\">\n",
              "    <path d=\"M0 0h24v24H0V0z\" fill=\"none\"/>\n",
              "    <path d=\"M18.56 5.44l.94 2.06.94-2.06 2.06-.94-2.06-.94-.94-2.06-.94 2.06-2.06.94zm-11 1L8.5 8.5l.94-2.06 2.06-.94-2.06-.94L8.5 2.5l-.94 2.06-2.06.94zm10 10l.94 2.06.94-2.06 2.06-.94-2.06-.94-.94-2.06-.94 2.06-2.06.94z\"/><path d=\"M17.41 7.96l-1.37-1.37c-.4-.4-.92-.59-1.43-.59-.52 0-1.04.2-1.43.59L10.3 9.45l-7.72 7.72c-.78.78-.78 2.05 0 2.83L4 21.41c.39.39.9.59 1.41.59.51 0 1.02-.2 1.41-.59l7.78-7.78 2.81-2.81c.8-.78.8-2.07 0-2.86zM5.41 20L4 18.59l7.72-7.72 1.47 1.35L5.41 20z\"/>\n",
              "  </svg>\n",
              "      </button>\n",
              "      \n",
              "  <style>\n",
              "    .colab-df-container {\n",
              "      display:flex;\n",
              "      flex-wrap:wrap;\n",
              "      gap: 12px;\n",
              "    }\n",
              "\n",
              "    .colab-df-convert {\n",
              "      background-color: #E8F0FE;\n",
              "      border: none;\n",
              "      border-radius: 50%;\n",
              "      cursor: pointer;\n",
              "      display: none;\n",
              "      fill: #1967D2;\n",
              "      height: 32px;\n",
              "      padding: 0 0 0 0;\n",
              "      width: 32px;\n",
              "    }\n",
              "\n",
              "    .colab-df-convert:hover {\n",
              "      background-color: #E2EBFA;\n",
              "      box-shadow: 0px 1px 2px rgba(60, 64, 67, 0.3), 0px 1px 3px 1px rgba(60, 64, 67, 0.15);\n",
              "      fill: #174EA6;\n",
              "    }\n",
              "\n",
              "    [theme=dark] .colab-df-convert {\n",
              "      background-color: #3B4455;\n",
              "      fill: #D2E3FC;\n",
              "    }\n",
              "\n",
              "    [theme=dark] .colab-df-convert:hover {\n",
              "      background-color: #434B5C;\n",
              "      box-shadow: 0px 1px 3px 1px rgba(0, 0, 0, 0.15);\n",
              "      filter: drop-shadow(0px 1px 2px rgba(0, 0, 0, 0.3));\n",
              "      fill: #FFFFFF;\n",
              "    }\n",
              "  </style>\n",
              "\n",
              "      <script>\n",
              "        const buttonEl =\n",
              "          document.querySelector('#df-1b0bce38-7dac-41c3-b1c3-cb18948c1673 button.colab-df-convert');\n",
              "        buttonEl.style.display =\n",
              "          google.colab.kernel.accessAllowed ? 'block' : 'none';\n",
              "\n",
              "        async function convertToInteractive(key) {\n",
              "          const element = document.querySelector('#df-1b0bce38-7dac-41c3-b1c3-cb18948c1673');\n",
              "          const dataTable =\n",
              "            await google.colab.kernel.invokeFunction('convertToInteractive',\n",
              "                                                     [key], {});\n",
              "          if (!dataTable) return;\n",
              "\n",
              "          const docLinkHtml = 'Like what you see? Visit the ' +\n",
              "            '<a target=\"_blank\" href=https://colab.research.google.com/notebooks/data_table.ipynb>data table notebook</a>'\n",
              "            + ' to learn more about interactive tables.';\n",
              "          element.innerHTML = '';\n",
              "          dataTable['output_type'] = 'display_data';\n",
              "          await google.colab.output.renderOutput(dataTable, element);\n",
              "          const docLink = document.createElement('div');\n",
              "          docLink.innerHTML = docLinkHtml;\n",
              "          element.appendChild(docLink);\n",
              "        }\n",
              "      </script>\n",
              "    </div>\n",
              "  </div>\n",
              "  "
            ]
          },
          "metadata": {},
          "execution_count": 112
        }
      ]
    },
    {
      "cell_type": "code",
      "source": [
        "features.plot(subplots=True)"
      ],
      "metadata": {
        "colab": {
          "base_uri": "https://localhost:8080/",
          "height": 510
        },
        "id": "G_YqBfB0OD_t",
        "outputId": "54504df9-70e3-4a75-fc37-a2e19d15acfa"
      },
      "execution_count": 113,
      "outputs": [
        {
          "output_type": "execute_result",
          "data": {
            "text/plain": [
              "array([<matplotlib.axes._subplots.AxesSubplot object at 0x7f2859a06590>,\n",
              "       <matplotlib.axes._subplots.AxesSubplot object at 0x7f2859a20490>,\n",
              "       <matplotlib.axes._subplots.AxesSubplot object at 0x7f2859a06110>,\n",
              "       <matplotlib.axes._subplots.AxesSubplot object at 0x7f2859985b50>,\n",
              "       <matplotlib.axes._subplots.AxesSubplot object at 0x7f28599bbed0>,\n",
              "       <matplotlib.axes._subplots.AxesSubplot object at 0x7f285997f290>],\n",
              "      dtype=object)"
            ]
          },
          "metadata": {},
          "execution_count": 113
        },
        {
          "output_type": "display_data",
          "data": {
            "text/plain": [
              "<Figure size 576x432 with 6 Axes>"
            ],
            "image/png": "[encoded data removed]"
          },
          "metadata": {
            "needs_background": "light"
          }
        }
      ]
    },
    {
      "cell_type": "code",
      "source": [
        "# стандартизация данных \n",
        "# среднее значение 0,\n",
        "# дисперсия 1\n",
        "TRAIN_SPLIT = 1500 \n",
        "df = features.values\n",
        "data_mean = df[:TRAIN_SPLIT].mean(axis=0)\n",
        "data_std = df[:TRAIN_SPLIT].std(axis=0)"
      ],
      "metadata": {
        "id": "HZn7RPluOQmd"
      },
      "execution_count": 114,
      "outputs": []
    },
    {
      "cell_type": "code",
      "source": [
        "data_std"
      ],
      "metadata": {
        "colab": {
          "base_uri": "https://localhost:8080/"
        },
        "id": "z_PVhGemeQP8",
        "outputId": "31d1fb58-0f1d-4c49-8ee3-1ea5aaadf1b4"
      },
      "execution_count": 121,
      "outputs": [
        {
          "output_type": "execute_result",
          "data": {
            "text/plain": [
              "array([4.06014217e+03, 3.73523975e+03, 3.91519774e+03, 5.41653427e+04,\n",
              "       5.47782066e+08, 3.91487669e+03])"
            ]
          },
          "metadata": {},
          "execution_count": 121
        }
      ]
    },
    {
      "cell_type": "code",
      "source": [
        "df = (df - data_mean) / data_std\n",
        "# не приводит к изменению графика"
      ],
      "metadata": {
        "id": "tcyM-M-EPiB2"
      },
      "execution_count": 115,
      "outputs": []
    },
    {
      "cell_type": "code",
      "source": [
        "len(df)"
      ],
      "metadata": {
        "colab": {
          "base_uri": "https://localhost:8080/"
        },
        "id": "L_SY9fl0gSjO",
        "outputId": "b99f203d-9a21-4b0b-fdc6-ea1d8cf00338"
      },
      "execution_count": 153,
      "outputs": [
        {
          "output_type": "execute_result",
          "data": {
            "text/plain": [
              "2001"
            ]
          },
          "metadata": {},
          "execution_count": 153
        }
      ]
    },
    {
      "cell_type": "code",
      "source": [
        "past_history = 200  # охватываемая история наблюдений, от past_history до len(df)\n",
        "# хотим узнать цену на биткоин через 3 дня, значит число наблюдений цены до этого:\n",
        "future_target = 3 \n",
        "STEP = 1\n"
      ],
      "metadata": {
        "id": "O1gO-nvvPnak"
      },
      "execution_count": 184,
      "outputs": []
    },
    {
      "cell_type": "code",
      "source": [
        "def multivariate_data(dataset, target, start_index, end_index, history_size,\n",
        "                      target_size, step, single_step=False):\n",
        "  # отбирает последние наблюдения на основе заданного размера шага\n",
        "  data = []\n",
        "  labels = []\n",
        "  print(start_index)\n",
        "\n",
        "  start_index = start_index + history_size\n",
        "  if end_index is None:\n",
        "    \n",
        "    end_index = len(dataset) - target_size\n",
        "    \n",
        "  print(end_index)\n",
        "  for i in range(start_index, end_index):\n",
        "    \n",
        "    indices = range(i - history_size, i, step)\n",
        "    # print('indices')\n",
        "    # print(indices)\n",
        "    data.append(dataset[indices])\n",
        "\n",
        "    if single_step:\n",
        "      labels.append(target[i + target_size])\n",
        "    else:\n",
        "      labels.append(target[i: i + target_size])\n",
        "\n",
        "  return np.array(data), np.array(labels)"
      ],
      "metadata": {
        "id": "KkMyjOR3oepC"
      },
      "execution_count": 185,
      "outputs": []
    },
    {
      "cell_type": "code",
      "source": [
        "x_train_single, y_train_single = multivariate_data(dataset=df, \n",
        "                                                   target=df[:, 5], \n",
        "                                                   start_index=0,\n",
        "                                                   end_index=TRAIN_SPLIT, \n",
        "                                                   history_size=past_history,\n",
        "                                                   target_size=future_target, \n",
        "                                                   step=STEP,\n",
        "                                                   single_step=True)"
      ],
      "metadata": {
        "colab": {
          "base_uri": "https://localhost:8080/"
        },
        "id": "Jz1O2gpWShVP",
        "outputId": "6b7fdc44-7a4c-4e9c-bca3-03736abb8429"
      },
      "execution_count": 186,
      "outputs": [
        {
          "output_type": "stream",
          "name": "stdout",
          "text": [
            "0\n",
            "1500\n"
          ]
        }
      ]
    },
    {
      "cell_type": "code",
      "source": [
        "x_val_single, y_val_single = multivariate_data(dataset=df, \n",
        "                                               target=df[:, 5],\n",
        "                                               start_index=TRAIN_SPLIT, \n",
        "                                               end_index=None, \n",
        "                                               history_size=past_history,\n",
        "                                               target_size=future_target, \n",
        "                                               step=STEP,\n",
        "                                               single_step=True)"
      ],
      "metadata": {
        "colab": {
          "base_uri": "https://localhost:8080/"
        },
        "id": "khizhLsTSlF8",
        "outputId": "496d1531-314b-428e-cde4-7a34db4eb6af"
      },
      "execution_count": 187,
      "outputs": [
        {
          "output_type": "stream",
          "name": "stdout",
          "text": [
            "1500\n",
            "1998\n"
          ]
        }
      ]
    },
    {
      "cell_type": "code",
      "source": [
        "x_val_single.shape # число наблюдений, временной интервал, число параметров"
      ],
      "metadata": {
        "colab": {
          "base_uri": "https://localhost:8080/"
        },
        "id": "Xgtt2Rz6j45d",
        "outputId": "7c87bd26-2e64-42e4-c0fd-03a6d94ad471"
      },
      "execution_count": 189,
      "outputs": [
        {
          "output_type": "execute_result",
          "data": {
            "text/plain": [
              "(298, 200, 6)"
            ]
          },
          "metadata": {},
          "execution_count": 189
        }
      ]
    },
    {
      "cell_type": "code",
      "source": [],
      "metadata": {
        "id": "6xLsz3cHkPXL"
      },
      "execution_count": null,
      "outputs": []
    },
    {
      "cell_type": "code",
      "source": [
        "print ('Single window of past history : {}'.format(x_train_single[0].shape))\n"
      ],
      "metadata": {
        "colab": {
          "base_uri": "https://localhost:8080/"
        },
        "id": "cOmLp5Y-Snyc",
        "outputId": "de23200e-e516-4c0b-b1f8-b8a035bfc20f"
      },
      "execution_count": 190,
      "outputs": [
        {
          "output_type": "stream",
          "name": "stdout",
          "text": [
            "Single window of past history : (200, 6)\n"
          ]
        }
      ]
    },
    {
      "cell_type": "code",
      "source": [],
      "metadata": {
        "colab": {
          "base_uri": "https://localhost:8080/"
        },
        "id": "4k54oxSjSq04",
        "outputId": "bc40580b-0b7d-49a5-eb02-0588c1c70229"
      },
      "execution_count": 149,
      "outputs": [
        {
          "output_type": "execute_result",
          "data": {
            "text/plain": [
              "<RepeatDataset element_spec=(TensorSpec(shape=(None, 720, 6), dtype=tf.float64, name=None), TensorSpec(shape=(None,), dtype=tf.float64, name=None))>"
            ]
          },
          "metadata": {},
          "execution_count": 149
        }
      ]
    },
    {
      "cell_type": "code",
      "source": [
        "BATCH_SIZE = 10\n",
        "BUFFER_SIZE = 100\n",
        "\n",
        "train_data_single = tf.data.Dataset.from_tensor_slices((x_train_single, y_train_single))\n",
        "train_data_single = train_data_single.cache().shuffle(BUFFER_SIZE).batch(BATCH_SIZE).repeat()\n",
        "\n",
        "val_data_single = tf.data.Dataset.from_tensor_slices((x_val_single, y_val_single))\n",
        "val_data_single = val_data_single.batch(BATCH_SIZE).repeat()"
      ],
      "metadata": {
        "id": "GbQpRNT6SuS8"
      },
      "execution_count": 191,
      "outputs": []
    },
    {
      "cell_type": "code",
      "source": [
        "single_step_model = tf.keras.models.Sequential()\n",
        "single_step_model.add(tf.keras.layers.LSTM(32,\n",
        "                                           input_shape=x_train_single.shape[-2:]))\n",
        "single_step_model.add(tf.keras.layers.Dense(1))\n",
        "\n",
        "single_step_model.compile(optimizer=tf.keras.optimizers.RMSprop(), loss='mae')"
      ],
      "metadata": {
        "id": "nkq06HppWCWv"
      },
      "execution_count": 192,
      "outputs": []
    },
    {
      "cell_type": "code",
      "source": [
        "for i in train_data_single:\n",
        "  print(i)"
      ],
      "metadata": {
        "id": "PPSau98jmb7Q"
      },
      "execution_count": null,
      "outputs": []
    },
    {
      "cell_type": "code",
      "source": [
        "for x, y in val_data_single.take(1):\n",
        "  print(single_step_model.predict(x).shape)"
      ],
      "metadata": {
        "colab": {
          "base_uri": "https://localhost:8080/"
        },
        "id": "QmUTb1LKWnAx",
        "outputId": "e6b835ea-72e1-4afa-acf3-a42c583de386"
      },
      "execution_count": 194,
      "outputs": [
        {
          "output_type": "stream",
          "name": "stdout",
          "text": [
            "(10, 1)\n"
          ]
        }
      ]
    },
    {
      "cell_type": "code",
      "source": [
        "single_step_history = single_step_model.fit(train_data_single, epochs=10,\n",
        "                                            steps_per_epoch=20,\n",
        "                                            validation_data=val_data_single,\n",
        "                                            validation_steps=50)"
      ],
      "metadata": {
        "colab": {
          "base_uri": "https://localhost:8080/"
        },
        "id": "a8Lh7lZNWqRS",
        "outputId": "f7843c84-fd6a-4f73-8dc7-61e700d7bf32"
      },
      "execution_count": 195,
      "outputs": [
        {
          "output_type": "stream",
          "name": "stdout",
          "text": [
            "Epoch 1/10\n",
            "20/20 [==============================] - 2s 59ms/step - loss: 0.1928 - val_loss: 6.2606\n",
            "Epoch 2/10\n",
            "20/20 [==============================] - 1s 45ms/step - loss: 0.0852 - val_loss: 6.2179\n",
            "Epoch 3/10\n",
            "20/20 [==============================] - 1s 46ms/step - loss: 0.4392 - val_loss: 5.3891\n",
            "Epoch 4/10\n",
            "20/20 [==============================] - 1s 46ms/step - loss: 0.1685 - val_loss: 5.1726\n",
            "Epoch 5/10\n",
            "20/20 [==============================] - 1s 47ms/step - loss: 0.1140 - val_loss: 4.6277\n",
            "Epoch 6/10\n",
            "20/20 [==============================] - 1s 44ms/step - loss: 0.1567 - val_loss: 4.5025\n",
            "Epoch 7/10\n",
            "20/20 [==============================] - 1s 45ms/step - loss: 0.1136 - val_loss: 4.4349\n",
            "Epoch 8/10\n",
            "20/20 [==============================] - 1s 48ms/step - loss: 0.0450 - val_loss: 4.4824\n",
            "Epoch 9/10\n",
            "20/20 [==============================] - 2s 83ms/step - loss: 0.1731 - val_loss: 4.1809\n",
            "Epoch 10/10\n",
            "20/20 [==============================] - 2s 87ms/step - loss: 0.1932 - val_loss: 4.4032\n"
          ]
        }
      ]
    },
    {
      "cell_type": "code",
      "source": [
        "def plot_train_history(history, title):\n",
        "  loss = history.history['loss']\n",
        "  val_loss = history.history['val_loss']\n",
        "\n",
        "  epochs = range(len(loss))\n",
        "\n",
        "  plt.figure()\n",
        "\n",
        "  plt.plot(epochs, loss, 'b', label='Training loss')\n",
        "  plt.plot(epochs, val_loss, 'r', label='Validation loss')\n",
        "  plt.title(title)\n",
        "  plt.legend()\n",
        "\n",
        "  plt.show()"
      ],
      "metadata": {
        "id": "pT0lN8H9Wt04"
      },
      "execution_count": 196,
      "outputs": []
    },
    {
      "cell_type": "code",
      "source": [],
      "metadata": {
        "colab": {
          "base_uri": "https://localhost:8080/",
          "height": 390
        },
        "id": "F0D2zQ0iqznx",
        "outputId": "7f11b634-727f-4ee4-d627-f84660cbac6e"
      },
      "execution_count": 197,
      "outputs": [
        {
          "output_type": "display_data",
          "data": {
            "text/plain": [
              "<Figure size 576x432 with 1 Axes>"
            ],
            "image/png": "[encoded data removed]"
          },
          "metadata": {
            "needs_background": "light"
          }
        }
      ]
    },
    {
      "cell_type": "code",
      "source": [
        "def create_time_steps(length):\n",
        "  return list(range(-length, 0))\n",
        "\n",
        "def show_plot(plot_data, delta, title):\n",
        "  labels = ['History', 'True Future', 'Model Prediction']\n",
        "  marker = ['.-', 'rx', 'go']\n",
        "  time_steps = create_time_steps(plot_data[0].shape[0])\n",
        "  if delta:\n",
        "    future = delta\n",
        "  else:\n",
        "    future = 0\n",
        "\n",
        "  plt.title(title)\n",
        "  for i, x in enumerate(plot_data):\n",
        "    if i:\n",
        "      plt.plot(future, plot_data[i], marker[i], markersize=10,\n",
        "               label=labels[i])\n",
        "    else:\n",
        "      plt.plot(time_steps, plot_data[i].flatten(), marker[i], label=labels[i])\n",
        "  plt.legend()\n",
        "  plt.xlim([time_steps[0], (future+5)*2])\n",
        "  plt.xlabel('Time-Step')\n",
        "  return plt"
      ],
      "metadata": {
        "id": "OwkFSY3KrFJC"
      },
      "execution_count": 199,
      "outputs": []
    },
    {
      "cell_type": "code",
      "source": [
        "for x, y in val_data_single.take(3):\n",
        "  plot = show_plot([x[0][:, 1].numpy(), y[0].numpy(),\n",
        "                    single_step_model.predict(x)[0]], 12,\n",
        "                   'Single Step Prediction')\n",
        "  plot.show()"
      ],
      "metadata": {
        "colab": {
          "base_uri": "https://localhost:8080/",
          "height": 1000
        },
        "id": "m9jv54CUq1dY",
        "outputId": "aedce6c6-bb0c-46e8-855f-4b4b43049489"
      },
      "execution_count": 200,
      "outputs": [
        {
          "output_type": "display_data",
          "data": {
            "text/plain": [
              "<Figure size 576x432 with 1 Axes>"
            ],
            "image/png": "[encoded data removed]"
          },
          "metadata": {
            "needs_background": "light"
          }
        },
        {
          "output_type": "display_data",
          "data": {
            "text/plain": [
              "<Figure size 576x432 with 1 Axes>"
            ],
            "image/png": "[encoded data removed]"
          },
          "metadata": {
            "needs_background": "light"
          }
        },
        {
          "output_type": "display_data",
          "data": {
            "text/plain": [
              "<Figure size 576x432 with 1 Axes>"
            ],
            "image/png": "[encoded data removed]"
          },
          "metadata": {
            "needs_background": "light"
          }
        }
      ]
    },
    {
      "cell_type": "code",
      "source": [],
      "metadata": {
        "id": "rZOSY6NLrObX"
      },
      "execution_count": null,
      "outputs": []
    }
  ]
}